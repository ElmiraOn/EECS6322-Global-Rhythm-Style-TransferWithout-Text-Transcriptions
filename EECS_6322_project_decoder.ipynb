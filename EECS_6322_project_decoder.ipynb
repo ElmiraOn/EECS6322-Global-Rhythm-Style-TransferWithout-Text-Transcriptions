{
  "nbformat": 4,
  "nbformat_minor": 0,
  "metadata": {
    "colab": {
      "provenance": [],
      "authorship_tag": "ABX9TyOvPJ2hz2TwsJ6xa3BTY20T",
      "include_colab_link": true
    },
    "kernelspec": {
      "name": "python3",
      "display_name": "Python 3"
    },
    "language_info": {
      "name": "python"
    }
  },
  "cells": [
    {
      "cell_type": "markdown",
      "metadata": {
        "id": "view-in-github",
        "colab_type": "text"
      },
      "source": [
        "<a href=\"https://colab.research.google.com/github/ElmiraOn/EECS6322-Global-Rhythm-Style-TransferWithout-Text-Transcriptions/blob/main/EECS_6322_project_decoder.ipynb\" target=\"_parent\"><img src=\"https://colab.research.google.com/assets/colab-badge.svg\" alt=\"Open In Colab\"/></a>"
      ]
    },
    {
      "cell_type": "code",
      "source": [
        "import math\n",
        "import warnings\n",
        "import torch"
      ],
      "metadata": {
        "id": "9fUpUObmAOSF"
      },
      "execution_count": 28,
      "outputs": []
    },
    {
      "cell_type": "code",
      "source": [
        "class PositionalEncoding(torch.nn.Module):\n",
        "    \"\"\" From the paper: Global Rhythm Style Transfer Without Text Transcriptions\n",
        "\n",
        "    Sinusoidal positional encoding for non-recurrent neural networks.\n",
        "\n",
        "    Implementation based on \"Attention Is All You Need\"\n",
        "    :cite:`DBLP:journals/corr/VaswaniSPUJGKP17`\n",
        "\n",
        "    Args:\n",
        "       dropout (float): dropout parameter\n",
        "       dim (int): embedding size\n",
        "    \"\"\"\n",
        "\n",
        "    def __init__(self, dropout, dim, max_len=5000):\n",
        "        if dim % 2 != 0:\n",
        "            raise ValueError(\"Cannot use sin/cos positional encoding with \"\n",
        "                             \"odd dim (got dim={:f})\".format(dim))\n",
        "        pe = torch.zeros(max_len, dim)\n",
        "        position = torch.arange(0, max_len).unsqueeze(1)\n",
        "        div_term = torch.exp((torch.arange(0, dim, 2, dtype=torch.float) *\n",
        "                             -(math.log(10000.0) / dim)))\n",
        "        pe[:, 0::2] = torch.sin(position.float() * div_term)\n",
        "        pe[:, 1::2] = torch.cos(position.float() * div_term)\n",
        "        pe = pe.unsqueeze(1)\n",
        "        super(PositionalEncoding, self).__init__()\n",
        "        self.register_buffer('pe', pe)\n",
        "        self.dropout = torch.nn.Dropout(p=dropout)\n",
        "        self.dim = dim\n",
        "\n",
        "    def forward(self, emb, step=None):\n",
        "        \"\"\"Embed inputs.\n",
        "\n",
        "        Args:\n",
        "            emb (FloatTensor): Sequence of word vectors\n",
        "                ``(seq_len, batch_size, self.dim)``\n",
        "            step (int or NoneType): If stepwise (``seq_len = 1``), use\n",
        "                the encoding for this position.\n",
        "        \"\"\"\n",
        "\n",
        "        emb = emb * math.sqrt(self.dim)\n",
        "        if step is None:\n",
        "            emb = emb + self.pe[:emb.size(0)]\n",
        "        else:\n",
        "            emb = emb + self.pe[step]\n",
        "        emb = self.dropout(emb)\n",
        "        return emb"
      ],
      "metadata": {
        "id": "kNkwomGs_-XQ"
      },
      "execution_count": 29,
      "outputs": []
    },
    {
      "cell_type": "code",
      "source": [
        "class AutoPST_Decoder(torch.nn.Module):\n",
        "  def __init__(self, num_heads=8, num_layers=4, d_model=256, d_freq=80, dropout=0.1):\n",
        "    super(AutoPST_Decoder, self).__init__()\n",
        "\n",
        "    self.pos_encoder = PositionalEncoding(dropout, d_model)\n",
        "\n",
        "    encoder_layer = torch.nn.TransformerEncoderLayer(d_model=d_model, nhead=num_heads)\n",
        "    self.transformer_encoder = torch.nn.TransformerEncoder(encoder_layer, num_layers=num_layers)\n",
        "\n",
        "    decoder_layer = torch.nn.TransformerDecoderLayer(d_model=d_model, nhead=num_heads)\n",
        "    self.transformer_decoder = torch.nn.TransformerDecoder(decoder_layer, num_layers=num_layers)\n",
        "\n",
        "  def forward(self, src, tgt):\n",
        "    src_embed = self.pos_encoder(src)\n",
        "    tgt_embed = self.pos_encoder(tgt)\n",
        "\n",
        "    memory = self.transformer_encoder(src_embed)\n",
        "    output = self.transformer_decoder(tgt_embed, memory)\n",
        "    return output"
      ],
      "metadata": {
        "id": "L-BKNMe-KM69"
      },
      "execution_count": 30,
      "outputs": []
    },
    {
      "cell_type": "code",
      "source": [
        "decoder = AutoPST_Decoder()\n",
        "\n",
        "source_tensor = torch.randn(3, 3, 256)\n",
        "target_tensor = torch.randn(3, 3, 256)\n",
        "\n",
        "result = decoder.forward(source_tensor, target_tensor)\n",
        "\n",
        "result"
      ],
      "metadata": {
        "colab": {
          "base_uri": "https://localhost:8080/"
        },
        "id": "LYo4vY_LFucu",
        "outputId": "b65c3b0d-9d72-4dfd-e099-84acc7e41724"
      },
      "execution_count": 31,
      "outputs": [
        {
          "output_type": "execute_result",
          "data": {
            "text/plain": [
              "tensor([[[ 0.7815,  1.9212, -0.9974,  ..., -0.2262,  1.1397, -0.8402],\n",
              "         [ 1.9683,  1.4275, -0.4384,  ...,  0.5657,  0.3012,  0.3163],\n",
              "         [ 1.5924,  0.3053, -1.7856,  ...,  0.5083,  0.6250, -0.3668]],\n",
              "\n",
              "        [[ 0.3415,  1.7797, -0.8949,  ..., -0.6622,  1.5491, -0.2162],\n",
              "         [ 1.0992,  1.2517,  0.0514,  ...,  1.0841,  0.6011,  0.3221],\n",
              "         [ 0.6970,  0.3915, -0.1802,  ...,  0.5334,  0.4400, -0.0502]],\n",
              "\n",
              "        [[-0.1700,  2.8282, -0.4705,  ..., -0.2241,  1.3028, -0.6926],\n",
              "         [ 1.6824,  0.9896,  0.2409,  ...,  0.5070,  1.2269, -0.1693],\n",
              "         [ 0.2704, -0.3567, -1.2692,  ..., -0.3041,  1.0992, -0.5318]]],\n",
              "       grad_fn=<NativeLayerNormBackward0>)"
            ]
          },
          "metadata": {},
          "execution_count": 31
        }
      ]
    }
  ]
}