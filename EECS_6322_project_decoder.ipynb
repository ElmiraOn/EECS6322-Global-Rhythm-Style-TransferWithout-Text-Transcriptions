{
  "nbformat": 4,
  "nbformat_minor": 0,
  "metadata": {
    "colab": {
      "provenance": [],
      "authorship_tag": "ABX9TyN3e76cv7KeXhU5E2dTWefJ",
      "include_colab_link": true
    },
    "kernelspec": {
      "name": "python3",
      "display_name": "Python 3"
    },
    "language_info": {
      "name": "python"
    }
  },
  "cells": [
    {
      "cell_type": "markdown",
      "metadata": {
        "id": "view-in-github",
        "colab_type": "text"
      },
      "source": [
        "<a href=\"https://colab.research.google.com/github/ElmiraOn/EECS6322-Global-Rhythm-Style-TransferWithout-Text-Transcriptions/blob/main/EECS_6322_project_decoder.ipynb\" target=\"_parent\"><img src=\"https://colab.research.google.com/assets/colab-badge.svg\" alt=\"Open In Colab\"/></a>"
      ]
    },
    {
      "cell_type": "code",
      "source": [
        "import math\n",
        "import warnings\n",
        "import torch"
      ],
      "metadata": {
        "id": "9fUpUObmAOSF"
      },
      "execution_count": 1,
      "outputs": []
    },
    {
      "cell_type": "code",
      "source": [
        "class PositionalEncoding(torch.nn.Module):\n",
        "    \"\"\" From the paper: Global Rhythm Style Transfer Without Text Transcriptions\n",
        "\n",
        "    Sinusoidal positional encoding for non-recurrent neural networks.\n",
        "\n",
        "    Implementation based on \"Attention Is All You Need\"\n",
        "    :cite:`DBLP:journals/corr/VaswaniSPUJGKP17`\n",
        "\n",
        "    Args:\n",
        "       dropout (float): dropout parameter\n",
        "       dim (int): embedding size\n",
        "    \"\"\"\n",
        "\n",
        "    def __init__(self, dropout, dim, max_len=5000):\n",
        "        if dim % 2 != 0:\n",
        "            raise ValueError(\"Cannot use sin/cos positional encoding with \"\n",
        "                             \"odd dim (got dim={:d})\".format(dim))\n",
        "        pe = torch.zeros(max_len, dim)\n",
        "        position = torch.arange(0, max_len).unsqueeze(1)\n",
        "        div_term = torch.exp((torch.arange(0, dim, 2, dtype=torch.float) *\n",
        "                             -(math.log(10000.0) / dim)))\n",
        "        pe[:, 0::2] = torch.sin(position.float() * div_term)\n",
        "        pe[:, 1::2] = torch.cos(position.float() * div_term)\n",
        "        pe = pe.unsqueeze(1)\n",
        "        super(PositionalEncoding, self).__init__()\n",
        "        self.register_buffer('pe', pe)\n",
        "        self.dropout = nn.Dropout(p=dropout)\n",
        "        self.dim = dim\n",
        "\n",
        "    def forward(self, emb, step=None):\n",
        "        \"\"\"Embed inputs.\n",
        "\n",
        "        Args:\n",
        "            emb (FloatTensor): Sequence of word vectors\n",
        "                ``(seq_len, batch_size, self.dim)``\n",
        "            step (int or NoneType): If stepwise (``seq_len = 1``), use\n",
        "                the encoding for this position.\n",
        "        \"\"\"\n",
        "\n",
        "        emb = emb * math.sqrt(self.dim)\n",
        "        if step is None:\n",
        "            emb = emb + self.pe[:emb.size(0)]\n",
        "        else:\n",
        "            emb = emb + self.pe[step]\n",
        "        emb = self.dropout(emb)\n",
        "        return emb"
      ],
      "metadata": {
        "id": "kNkwomGs_-XQ"
      },
      "execution_count": 2,
      "outputs": []
    },
    {
      "cell_type": "code",
      "source": [
        "class AutoPST_Decoder(torch.nn.Module):\n",
        "  def __init__(self, num_heads=8, num_layers=4, d_model=256, d_freq=80, dropout=0.1):\n",
        "    super(AutoPST_Decoder, self).__init__()\n",
        "\n",
        "    self.pos_encoder = PositionalEncoding(d_model, dropout)\n",
        "\n",
        "    encoder_layer = torch.nn.TransformerEncoderLayer(d_model=d_model, nhead=num_heads)\n",
        "    self.transformer_encoder = torch.nn.TransformerEncoder(encoder_layer, num_layers=num_layers)\n",
        "\n",
        "    decoder_layer = torch.nn.TransformerDecoderLayer(d_model=d_model, nhead=num_heads)\n",
        "    self.transformer_decoder = torch.nn.TransformerDecoder(decoder_layer, num_layers=num_layers)\n",
        "\n",
        "  def forward(self, src, tgt):\n",
        "    src_embed = self.pos_encoder(src)\n",
        "    tgt_embed = self.pos_encoder(tgt)\n",
        "\n",
        "    memory = self.transformer_encoder(src_embed)\n",
        "    output = self.transformer_decoder(tgt_embed, memory)\n",
        "    return output"
      ],
      "metadata": {
        "id": "L-BKNMe-KM69"
      },
      "execution_count": 3,
      "outputs": []
    }
  ]
}