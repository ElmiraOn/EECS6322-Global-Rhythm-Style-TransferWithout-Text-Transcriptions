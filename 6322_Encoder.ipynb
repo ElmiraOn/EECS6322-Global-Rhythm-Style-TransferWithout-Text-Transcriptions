{
  "nbformat": 4,
  "nbformat_minor": 0,
  "metadata": {
    "colab": {
      "provenance": [],
      "authorship_tag": "ABX9TyNbfNQiUszVqWI+HKFtQNff",
      "include_colab_link": true
    },
    "kernelspec": {
      "name": "python3",
      "display_name": "Python 3"
    },
    "language_info": {
      "name": "python"
    }
  },
  "cells": [
    {
      "cell_type": "markdown",
      "metadata": {
        "id": "view-in-github",
        "colab_type": "text"
      },
      "source": [
        "<a href=\"https://colab.research.google.com/github/ElmiraOn/EECS6322-Global-Rhythm-Style-TransferWithout-Text-Transcriptions/blob/main/6322_Encoder.ipynb\" target=\"_parent\"><img src=\"https://colab.research.google.com/assets/colab-badge.svg\" alt=\"Open In Colab\"/></a>"
      ]
    },
    {
      "cell_type": "markdown",
      "source": [
        "# Encoder Architecture"
      ],
      "metadata": {
        "id": "5uPpf2BpgBe8"
      }
    },
    {
      "cell_type": "markdown",
      "source": [
        "8 layer 1 D convolutional network where each later uses 5x1 filters wuth 1 stride, SAME oadding and ReLu actiuvation. GroupNorm is applierd to every layer. the number of flliters is 512 and first five layers and last three have 128, 32, 4 filters respectivly.\n",
        "\n",
        "input: 13 D MFCC\n",
        "\n",
        "The encoder output dimension is set to four."
      ],
      "metadata": {
        "id": "rL6ip9wxvoqO"
      }
    },
    {
      "cell_type": "markdown",
      "source": [
        "# Implementation"
      ],
      "metadata": {
        "id": "5hxPDvt50coq"
      }
    },
    {
      "cell_type": "markdown",
      "source": [
        "## imports"
      ],
      "metadata": {
        "id": "MkpMGo7O0hNp"
      }
    },
    {
      "cell_type": "code",
      "source": [
        "import torch\n",
        "from torchvision import datasets\n",
        "from torchvision import transforms\n",
        "import matplotlib.pyplot as plt\n",
        "import tensorflow as tf\n",
        "from tensorflow.keras.layers import Conv1D, ReLU, GroupNormalization"
      ],
      "metadata": {
        "id": "feOGiOWP0jUB"
      },
      "execution_count": 1,
      "outputs": []
    },
    {
      "cell_type": "code",
      "source": [
        "tensor_transform = transforms.ToTensor()"
      ],
      "metadata": {
        "id": "dUi7z5mKwTSR"
      },
      "execution_count": 13,
      "outputs": []
    },
    {
      "cell_type": "code",
      "source": [
        "class Encoder():\n",
        "    def __init__(self):\n",
        "        self.layers = []\n",
        "        for i in range(5): # first 5 layers have 512 filters\n",
        "          conv = Conv1D(filters=512, kernel_size=5, strides=1, padding='same', activation='relu')\n",
        "          group = GroupNormalization(groups=512)\n",
        "          self.layers.append(conv)\n",
        "          self.layers.append(group)\n",
        "\n",
        "        conv6 = Conv1D(filters=128, kernel_size=5, strides=1, padding='same', activation='relu')\n",
        "        group6 = GroupNormalization(groups=128)\n",
        "        self.layers.append(conv6)\n",
        "        self.layers.append(group6)\n",
        "\n",
        "        conv7 = Conv1D(filters=32, kernel_size=5, strides=1, padding='same', activation='relu')\n",
        "        group7 = GroupNormalization(groups=32)\n",
        "        self.layers.append(conv7)\n",
        "        self.layers.append(group7)\n",
        "\n",
        "        conv8 = Conv1D(filters=4, kernel_size=5, strides=1, padding='same', activation='relu')\n",
        "        group8 = GroupNormalization(groups=4)\n",
        "        self.layers.append(conv8)\n",
        "        self.layers.append(group8)\n",
        "\n",
        "    def forward(self, x):\n",
        "        for layer in self.layers:\n",
        "          x = layer(x)\n",
        "        return x\n"
      ],
      "metadata": {
        "id": "hIYdYDKkwWaH"
      },
      "execution_count": 43,
      "outputs": []
    },
    {
      "cell_type": "code",
      "source": [
        "input_shape = tf.random.normal((1, 13, 1)) # Assuming 1D input\n",
        "\n",
        "# Create the encoder model\n",
        "encoder_model = Encoder()\n",
        "output = encoder_model.forward(input_shape)\n",
        "print(output)\n"
      ],
      "metadata": {
        "colab": {
          "base_uri": "https://localhost:8080/"
        },
        "id": "e8SK7zdK-6Ar",
        "outputId": "c2091fde-c7dc-433b-8839-7c354c51aeb9"
      },
      "execution_count": 44,
      "outputs": [
        {
          "output_type": "stream",
          "name": "stdout",
          "text": [
            "tf.Tensor(\n",
            "[[[-0.72563845  1.5047582  -0.9092516  -0.30174088]\n",
            "  [-0.72563845 -0.85222924 -0.9092516   0.34600472]\n",
            "  [ 0.36987168 -0.1002211  -0.9092516   2.3927398 ]\n",
            "  [ 1.2746978  -0.85222924  0.05415952 -0.82459414]\n",
            "  [-0.72563845 -0.85222924  0.87301874 -0.82459414]\n",
            "  [-0.72563845 -0.85222924  0.17037296 -0.82459414]\n",
            "  [ 1.7424219  -0.5662582   1.5465783   0.45005596]\n",
            "  [-0.72563845 -0.85222924  2.1356297   1.3674937 ]\n",
            "  [-0.72563845  1.5693444   0.20181656 -0.82459414]\n",
            "  [ 0.48249966  0.5781536  -0.9092516   0.9141388 ]\n",
            "  [-0.72563845 -0.85222924  0.4739324  -0.22112662]\n",
            "  [-0.72563845  0.37166727 -0.9092516  -0.82459414]\n",
            "  [ 1.9356172   1.7559313  -0.9092516  -0.82459414]]], shape=(1, 13, 4), dtype=float32)\n"
          ]
        }
      ]
    },
    {
      "cell_type": "code",
      "source": [],
      "metadata": {
        "id": "UMWiiiCx_Egr"
      },
      "execution_count": null,
      "outputs": []
    }
  ]
}